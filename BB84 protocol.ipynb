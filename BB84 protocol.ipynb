{
 "cells": [
  {
   "cell_type": "markdown",
   "id": "85bd1975",
   "metadata": {},
   "source": [
    "# This is the simulation of the BB84 protocol in Quantum Cryptography"
   ]
  },
  {
   "cell_type": "code",
   "execution_count": 2,
   "id": "0e0d0ee7",
   "metadata": {},
   "outputs": [],
   "source": [
    "from qiskit import QuantumCircuit, transpile, Aer"
   ]
  },
  {
   "cell_type": "code",
   "execution_count": 3,
   "id": "c5facfba",
   "metadata": {},
   "outputs": [],
   "source": [
    "simulator = Aer.get_backend(\"aer_simulator\")"
   ]
  },
  {
   "cell_type": "code",
   "execution_count": 4,
   "id": "ee5ae6b8",
   "metadata": {},
   "outputs": [
    {
     "data": {
      "text/plain": [
       "<qiskit.circuit.instructionset.InstructionSet at 0x290f01fb7c0>"
      ]
     },
     "execution_count": 4,
     "metadata": {},
     "output_type": "execute_result"
    }
   ],
   "source": [
    "randomBitCircuit = QuantumCircuit(1,1)\n",
    "randomBitCircuit.x(0)\n",
    "randomBitCircuit.barrier()\n",
    "randomBitCircuit.h(0)\n",
    "randomBitCircuit.barrier()\n",
    "randomBitCircuit.measure(0,0)"
   ]
  },
  {
   "cell_type": "code",
   "execution_count": 5,
   "id": "55deb6b7",
   "metadata": {},
   "outputs": [
    {
     "name": "stdout",
     "output_type": "stream",
     "text": [
      "Bit to Send = 1\n"
     ]
    }
   ],
   "source": [
    "randomBitCompiledCircuit = transpile(randomBitCircuit, simulator)\n",
    "job = simulator.run(randomBitCompiledCircuit, shots = 1)\n",
    "result = job.result()\n",
    "counts = result.get_counts(randomBitCompiledCircuit)\n",
    "if(\"1\" in counts.keys()):\n",
    "    bitToSend = 1\n",
    "else:\n",
    "    bitToSend = 0\n",
    "print(\"Bit to Send = \" + str(bitToSend))"
   ]
  },
  {
   "cell_type": "code",
   "execution_count": 6,
   "id": "782c90f6",
   "metadata": {},
   "outputs": [
    {
     "data": {
      "text/plain": [
       "<qiskit.circuit.instructionset.InstructionSet at 0x290f0244640>"
      ]
     },
     "execution_count": 6,
     "metadata": {},
     "output_type": "execute_result"
    }
   ],
   "source": [
    "#Compute a random basis to use for sending\n",
    "randomSendBasisCircuit = QuantumCircuit(1,1)\n",
    "randomSendBasisCircuit.x(0)\n",
    "randomSendBasisCircuit.barrier()\n",
    "randomSendBasisCircuit.h(0)\n",
    "randomSendBasisCircuit.barrier()\n",
    "randomSendBasisCircuit.measure(0,0)"
   ]
  },
  {
   "cell_type": "code",
   "execution_count": 7,
   "id": "ae17d258",
   "metadata": {},
   "outputs": [
    {
     "name": "stdout",
     "output_type": "stream",
     "text": [
      "Send Basis = 1\n"
     ]
    }
   ],
   "source": [
    "randomSendBasisCompiledCircuit = transpile(randomSendBasisCircuit, simulator)\n",
    "job = simulator.run(randomSendBasisCompiledCircuit, shots = 1)\n",
    "result = job.result()\n",
    "counts = result.get_counts(randomSendBasisCompiledCircuit)\n",
    "if(\"1\" in counts.keys()):\n",
    "    sendBasis = 1\n",
    "else:\n",
    "    sendBasis = 0\n",
    "    \n",
    "print(\"Send Basis = \" + str(sendBasis))"
   ]
  },
  {
   "cell_type": "code",
   "execution_count": 8,
   "id": "693e46fd",
   "metadata": {},
   "outputs": [
    {
     "data": {
      "text/plain": [
       "<qiskit.circuit.instructionset.InstructionSet at 0x29096fa6560>"
      ]
     },
     "execution_count": 8,
     "metadata": {},
     "output_type": "execute_result"
    }
   ],
   "source": [
    "#Compute a random basis to use for receiving\n",
    "randomRecvBasisCircuit = QuantumCircuit(1,1)\n",
    "randomRecvBasisCircuit.x(0)\n",
    "randomRecvBasisCircuit.barrier()\n",
    "randomRecvBasisCircuit.h(0)\n",
    "randomRecvBasisCircuit.barrier()\n",
    "randomRecvBasisCircuit.measure(0,0)"
   ]
  },
  {
   "cell_type": "code",
   "execution_count": 9,
   "id": "bfd39234",
   "metadata": {},
   "outputs": [
    {
     "name": "stdout",
     "output_type": "stream",
     "text": [
      "Receive Basis = 1\n"
     ]
    }
   ],
   "source": [
    "randomRecvBasisCompiledCircuit = transpile(randomRecvBasisCircuit, simulator)\n",
    "job = simulator.run(randomRecvBasisCompiledCircuit, shots = 1)\n",
    "result = job.result()\n",
    "counts = result.get_counts(randomRecvBasisCompiledCircuit)\n",
    "if(\"1\" in counts.keys()):\n",
    "    recvBasis = 1\n",
    "else:\n",
    "    recvBasis = 0\n",
    "    \n",
    "print(\"Receive Basis = \" + str(recvBasis))"
   ]
  },
  {
   "cell_type": "code",
   "execution_count": 12,
   "id": "388ca70b",
   "metadata": {},
   "outputs": [],
   "source": [
    "#Quantum Send\n",
    "commCircuit = QuantumCircuit(1,1)\n",
    "if(bitToSend==1):\n",
    "    commCircuit.x(0) \n",
    "if(sendBasis==1):\n",
    "    commCircuit.h(0) # Change the basis"
   ]
  },
  {
   "cell_type": "code",
   "execution_count": 13,
   "id": "2527efb3",
   "metadata": {},
   "outputs": [
    {
     "data": {
      "text/plain": [
       "<qiskit.circuit.instructionset.InstructionSet at 0x290f01fb550>"
      ]
     },
     "execution_count": 13,
     "metadata": {},
     "output_type": "execute_result"
    }
   ],
   "source": [
    "#Quantum Receive\n",
    "if(recvBasis==1):\n",
    "    commCircuit.h(0) # HH = I. So this will reverse the earlier basis change\n",
    "commCircuit.measure(0,0)"
   ]
  },
  {
   "cell_type": "code",
   "execution_count": 14,
   "id": "4ea55a76",
   "metadata": {},
   "outputs": [],
   "source": [
    "commCompiledCircuit = transpile(commCircuit, simulator)\n",
    "job = simulator.run(commCompiledCircuit, shots = 1)\n",
    "result = job.result()\n",
    "counts = result.get_counts(commCompiledCircuit)"
   ]
  },
  {
   "cell_type": "code",
   "execution_count": 15,
   "id": "520d3872",
   "metadata": {},
   "outputs": [
    {
     "name": "stdout",
     "output_type": "stream",
     "text": [
      "Sent Bit = 1 Received Bit = 1\n"
     ]
    }
   ],
   "source": [
    "if(\"1\" in counts.keys()):\n",
    "    recvBit = 1\n",
    "else:\n",
    "    recvBit = 0"
   ]
  },
  {
   "cell_type": "code",
   "execution_count": 16,
   "id": "1a39f916",
   "metadata": {},
   "outputs": [
    {
     "name": "stdout",
     "output_type": "stream",
     "text": [
      "Sent Bit = 1 Received Bit = 1\n"
     ]
    }
   ],
   "source": [
    "#If the basis are the same, the received bit should be the same as the sent bit\n",
    "if(sendBasis==recvBasis):\n",
    "    print(\"Sent Bit = \"+str(bitToSend)+\" Received Bit = \"+str(recvBit))\n",
    "else:\n",
    "    print(\"Bit was lost because basis didn't match\")"
   ]
  },
  {
   "cell_type": "code",
   "execution_count": null,
   "id": "6f152ccb",
   "metadata": {},
   "outputs": [],
   "source": []
  }
 ],
 "metadata": {
  "kernelspec": {
   "display_name": "Python 3 (ipykernel)",
   "language": "python",
   "name": "python3"
  },
  "language_info": {
   "codemirror_mode": {
    "name": "ipython",
    "version": 3
   },
   "file_extension": ".py",
   "mimetype": "text/x-python",
   "name": "python",
   "nbconvert_exporter": "python",
   "pygments_lexer": "ipython3",
   "version": "3.11.4"
  }
 },
 "nbformat": 4,
 "nbformat_minor": 5
}
