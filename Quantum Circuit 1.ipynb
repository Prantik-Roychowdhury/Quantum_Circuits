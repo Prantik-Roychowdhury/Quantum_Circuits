{
 "cells": [
  {
   "cell_type": "code",
   "execution_count": 1,
   "id": "9da0f093",
   "metadata": {},
   "outputs": [],
   "source": [
    "from qiskit import QuantumCircuit"
   ]
  },
  {
   "cell_type": "code",
   "execution_count": null,
   "id": "06cfb29c",
   "metadata": {},
   "outputs": [],
   "source": [
    "qc = QuantumCircuit(3)\n",
    "qc.reset(0)\n",
    "qc.reset(1)\n",
    "qc.reset(2)\n",
    "qc.h(0)\n",
    "qc.cx(0,1)\n",
    "qc.(0,2)\n",
    "qc.measure_all()\n",
    "qc.draw(output=\"mpl\")"
   ]
  }
 ],
 "metadata": {
  "kernelspec": {
   "display_name": "Python 3 (ipykernel)",
   "language": "python",
   "name": "python3"
  },
  "language_info": {
   "codemirror_mode": {
    "name": "ipython",
    "version": 3
   },
   "file_extension": ".py",
   "mimetype": "text/x-python",
   "name": "python",
   "nbconvert_exporter": "python",
   "pygments_lexer": "ipython3",
   "version": "3.11.4"
  }
 },
 "nbformat": 4,
 "nbformat_minor": 5
}
