{
 "cells": [
  {
   "cell_type": "markdown",
   "id": "66bfee3e",
   "metadata": {},
   "source": [
    "KNN Algorithm"
   ]
  },
  {
   "cell_type": "code",
   "execution_count": 2,
   "id": "996f76e3",
   "metadata": {},
   "outputs": [],
   "source": [
    "import math\n",
    "from qiskit import QuantumCircuit, transpile, Aer"
   ]
  },
  {
   "cell_type": "markdown",
   "id": "41ef3388",
   "metadata": {},
   "source": [
    "Classical Machine Learning"
   ]
  },
  {
   "cell_type": "code",
   "execution_count": 3,
   "id": "f9539cba",
   "metadata": {},
   "outputs": [],
   "source": [
    "trainingData = [[0.9798, 0.2, 1],[0.3, 0.954, 0]]\n",
    "queryData = [0.85, 0.5268]\n",
    "\n",
    "# Normalize trainingData\n",
    "vecLen = math.sqrt(trainingData[0][0]**2 + trainingData[0][1]**2);\n",
    "trainingData[0][0] = trainingData[0][0]/vecLen\n",
    "trainingData[0][1] = trainingData[0][1]/vecLen\n",
    "vecLen = math.sqrt(trainingData[1][0]**2 + trainingData[1][1]**2);\n",
    "trainingData[1][0] = trainingData[1][0]/vecLen\n",
    "trainingData[1][1] = trainingData[1][1]/vecLen"
   ]
  },
  {
   "cell_type": "code",
   "execution_count": 4,
   "id": "5762b441",
   "metadata": {},
   "outputs": [],
   "source": [
    "# Normalize queryData\n",
    "vecLen = math.sqrt(queryData[0]**2 + queryData[1]**2);\n",
    "queryData[0] = queryData[0]/vecLen\n",
    "queryData[1] = queryData[1]/vecLen"
   ]
  },
  {
   "cell_type": "code",
   "execution_count": 5,
   "id": "87b62faa",
   "metadata": {},
   "outputs": [],
   "source": [
    "# Compute Euclidean Distances Squared\n",
    "euclideanDistanceSquared = [0,0]\n",
    "euclideanDistanceSquared[0] = (queryData[0]-trainingData[0][0])**2 + (queryData[1]-trainingData[0][1])**2\n",
    "euclideanDistanceSquared[1] = (queryData[0]-trainingData[1][0])**2 + (queryData[1]-trainingData[1][1])**2\n",
    "\n",
    "# Compute Weights\n",
    "weights = [0,0]\n",
    "weights[0] = 1 - 0.25*euclideanDistanceSquared[0]\n",
    "weights[1] = 1 - 0.25*euclideanDistanceSquared[1]"
   ]
  },
  {
   "cell_type": "code",
   "execution_count": 6,
   "id": "1203fd0e",
   "metadata": {},
   "outputs": [],
   "source": [
    "# Normalize Weights\n",
    "weightSum = (weights[0] + weights[1])\n",
    "weights[0] = weights[0] / weightSum\n",
    "weights[1] = weights[1] / weightSum"
   ]
  },
  {
   "cell_type": "code",
   "execution_count": 7,
   "id": "e66d8d7e",
   "metadata": {},
   "outputs": [
    {
     "name": "stdout",
     "output_type": "stream",
     "text": [
      "Classical Machine Learning:\n",
      "P(1) =  0.5244421365167681     P(0) =  0.475557863483232\n",
      "\n"
     ]
    }
   ],
   "source": [
    "print(\"Classical Machine Learning:\")\n",
    "print(\"P(1) = \",weights[0],\"    P(0) = \",weights[1])\n",
    "print(\"\")"
   ]
  },
  {
   "cell_type": "markdown",
   "id": "782a42d7",
   "metadata": {},
   "source": [
    "Quantum Machine Learning"
   ]
  },
  {
   "cell_type": "code",
   "execution_count": 8,
   "id": "12e23ab9",
   "metadata": {},
   "outputs": [],
   "source": [
    "simulator = Aer.get_backend(\"aer_simulator\")\n",
    "\n",
    "circuit = QuantumCircuit(4,2)\n",
    "initial_state = [0,trainingData[0][0]/2,0,trainingData[0][1]/2,trainingData[1][0]/2,0,trainingData[1][1]/2,0,0,queryData[0]/2,0,queryData[1]/2,queryData[0]/2, 0,queryData[1]/2,0]   \n",
    "circuit.initialize(initial_state)\n",
    "circuit.h(3)\n",
    "circuit.save_statevector(label='v1')\n",
    "circuit.measure(3,0)\n",
    "circuit.save_statevector(label='v2')\n",
    "circuit.measure(0,1)\n",
    "\n",
    "# compile the circuit to simulator\n",
    "compiled_circuit = transpile(circuit, simulator)"
   ]
  },
  {
   "cell_type": "code",
   "execution_count": 9,
   "id": "66553a4b",
   "metadata": {},
   "outputs": [],
   "source": [
    "# Execute the circuit on the simulator. 1000 times.\n",
    "numerator = 0\n",
    "denominator = 0\n",
    "for i in range(0,10000):\n",
    "    job = simulator.run(compiled_circuit, shots=1)\n",
    "    # Get results\n",
    "    result = job.result()\n",
    "    # Get counts from results\n",
    "    counts = result.get_counts(compiled_circuit)\n",
    "    if(\"00\" in counts or \"10\" in counts):\n",
    "        stateAfterMeasuringQ3 = result.data(0)['v2']\n",
    "        denominator += 1\n",
    "        if(\"10\" in counts):\n",
    "            numerator += 1"
   ]
  },
  {
   "cell_type": "code",
   "execution_count": 10,
   "id": "0e3c78cb",
   "metadata": {},
   "outputs": [
    {
     "name": "stdout",
     "output_type": "stream",
     "text": [
      "Quantum Machine Learning:\n",
      "P(1) =  0.5310937160252229     P(0) =  0.4689062839747771\n",
      "\n",
      "\n",
      "Intermediate State Vectors:\n",
      "After Hadamard  Statevector([ 0.        +0.00000000e+00j,  0.64692786-3.68027968e-17j,\n",
      "              0.        +0.00000000e+00j,  0.25696062-2.28090745e-17j,\n",
      "              0.40657751-3.68027968e-17j,  0.        +0.00000000e+00j,\n",
      "              0.5235206 -2.28090745e-17j,  0.        +0.00000000e+00j,\n",
      "              0.        +0.00000000e+00j,  0.04589258+3.68027968e-17j,\n",
      "              0.        +0.00000000e+00j, -0.11553983+2.28090745e-17j,\n",
      "             -0.19445778+3.68027968e-17j,  0.        +0.00000000e+00j,\n",
      "              0.15102015+2.28090745e-17j,  0.        +0.00000000e+00j],\n",
      "            dims=(2, 2, 2, 2))\n",
      "\n",
      "After Measuring Qubit3  Statevector([ 0.        +0.00000000e+00j,  0.67303531-3.82880118e-17j,\n",
      "              0.        +0.00000000e+00j,  0.26733053-2.37295584e-17j,\n",
      "              0.42298536-3.82880118e-17j,  0.        +0.00000000e+00j,\n",
      "              0.54464782-2.37295584e-17j,  0.        +0.00000000e+00j,\n",
      "              0.        +0.00000000e+00j,  0.        +0.00000000e+00j,\n",
      "              0.        +0.00000000e+00j, -0.        +0.00000000e+00j,\n",
      "             -0.        +0.00000000e+00j,  0.        +0.00000000e+00j,\n",
      "              0.        +0.00000000e+00j,  0.        +0.00000000e+00j],\n",
      "            dims=(2, 2, 2, 2))\n"
     ]
    },
    {
     "data": {
      "image/png": "[encoded data removed]",
      "text/plain": [
       "<Figure size 1123.61x451.5 with 1 Axes>"
      ]
     },
     "execution_count": 10,
     "metadata": {},
     "output_type": "execute_result"
    }
   ],
   "source": [
    "print(\"Quantum Machine Learning:\")\n",
    "print(\"P(1) = \",numerator/denominator,\"    P(0) = \",(denominator-numerator)/denominator)\n",
    "print(\"\")\n",
    "print(\"\")\n",
    "print(\"Intermediate State Vectors:\")\n",
    "print(\"After Hadamard \",result.data(0)['v1'])\n",
    "print(\"\\nAfter Measuring Qubit3 \",stateAfterMeasuringQ3)\n",
    "circuit.draw(output = \"mpl\")"
   ]
  },
  {
   "cell_type": "code",
   "execution_count": null,
   "id": "1361c63c",
   "metadata": {},
   "outputs": [],
   "source": []
  }
 ],
 "metadata": {
  "kernelspec": {
   "display_name": "Python 3 (ipykernel)",
   "language": "python",
   "name": "python3"
  },
  "language_info": {
   "codemirror_mode": {
    "name": "ipython",
    "version": 3
   },
   "file_extension": ".py",
   "mimetype": "text/x-python",
   "name": "python",
   "nbconvert_exporter": "python",
   "pygments_lexer": "ipython3",
   "version": "3.11.4"
  }
 },
 "nbformat": 4,
 "nbformat_minor": 5
}
